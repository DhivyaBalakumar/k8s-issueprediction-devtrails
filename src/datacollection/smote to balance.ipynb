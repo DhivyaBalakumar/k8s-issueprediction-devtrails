{
 "cells": [
  {
   "cell_type": "code",
   "execution_count": null,
   "id": "94f050bc-ad79-42fe-b602-0aabd0076944",
   "metadata": {},
   "outputs": [],
   "source": [
    "import pandas as pd\n",
    "from imblearn.over_sampling import SMOTE\n",
    "\n",
    "\n",
    "df = pd.read_csv(\"src/dataset.csv\")  \n",
    "\n",
    "\n",
    "X = df.drop(columns=[\"Failure Type\"])  # Features\n",
    "y = df[\"Failure Type\"]  # Target\n",
    "smote = SMOTE(sampling_strategy=\"auto\", random_state=42)\n",
    "X_resampled, y_resampled = smote.fit_resample(X, y)\n",
    "\n",
    "\n",
    "df_balanced = pd.DataFrame(X_resampled, columns=X.columns)\n",
    "df_balanced[\"Failure Type\"] = y_resampled\n",
    "df_balanced.to_csv(\"balanced_dataset.csv\", index=False)\n",
    "\n",
    "print(df_balanced[\"Failure Type\"].value_counts())\n"
   ]
  }
 ],
 "metadata": {
  "kernelspec": {
   "display_name": "Python 3 (ipykernel)",
   "language": "python",
   "name": "python3"
  },
  "language_info": {
   "codemirror_mode": {
    "name": "ipython",
    "version": 3
   },
   "file_extension": ".py",
   "mimetype": "text/x-python",
   "name": "python",
   "nbconvert_exporter": "python",
   "pygments_lexer": "ipython3",
   "version": "3.11.4"
  }
 },
 "nbformat": 4,
 "nbformat_minor": 5
}
