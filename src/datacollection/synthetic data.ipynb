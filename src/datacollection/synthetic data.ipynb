{
 "cells": [
  {
   "cell_type": "code",
   "execution_count": null,
   "id": "da67c93f-ddc5-40ce-92a0-ac43a58ef7ba",
   "metadata": {},
   "outputs": [],
   "source": [
    "import pandas as pd\n",
    "import numpy as np\n",
    "\n",
    "def generate_synthetic_data(num_samples=10000, seed=42):\n",
    "    np.random.seed(seed)\n",
    "    \n",
    "    data = {\n",
    "        \"CPU Usage (%)\": np.random.uniform(0, 1, num_samples),\n",
    "        \"Memory Usage (%)\": np.random.uniform(0, 1, num_samples),\n",
    "        \"Disk Usage (%)\": np.random.uniform(0, 1, num_samples),\n",
    "        \"Network Latency (ms)\": np.random.uniform(0, 0.6, num_samples),\n",
    "        \"Packet Loss (%)\": np.random.uniform(0, 1, num_samples),\n",
    "        \"Error Logs Count\": np.random.uniform(0, 1, num_samples).round(1),\n",
    "        \"Event Type\": np.random.randint(0, 3, num_samples),\n",
    "        \"Pod Eviction Risk (%)\": np.random.uniform(0, 1, num_samples),\n",
    "        \"Slow Response Likelihood (%)\": np.random.uniform(0, 1, num_samples),\n",
    "        \"Failure Type\": np.random.randint(0, 3, num_samples),\n",
    "    }\n",
    "    \n",
    "    df = pd.DataFrame(data)\n",
    "    df.to_csv(\"synthetic_dataset.csv\", index=False)\n",
    "    print(\"Synthetic dataset saved as 'synthetic_dataset.csv'\")\n",
    "    generate_synthetic_data()\n"
   ]
  }
 ],
 "metadata": {
  "kernelspec": {
   "display_name": "Python 3 (ipykernel)",
   "language": "python",
   "name": "python3"
  },
  "language_info": {
   "codemirror_mode": {
    "name": "ipython",
    "version": 3
   },
   "file_extension": ".py",
   "mimetype": "text/x-python",
   "name": "python",
   "nbconvert_exporter": "python",
   "pygments_lexer": "ipython3",
   "version": "3.11.4"
  }
 },
 "nbformat": 4,
 "nbformat_minor": 5
}
